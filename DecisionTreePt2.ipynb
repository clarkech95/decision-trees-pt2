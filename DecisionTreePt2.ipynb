{
 "cells": [
  {
   "cell_type": "markdown",
   "metadata": {},
   "source": [
    "### Student Name: "
   ]
  },
  {
   "cell_type": "code",
   "execution_count": null,
   "metadata": {},
   "outputs": [],
   "source": [
    "#TODO: import the modules\n",
    "from sklearn.model_selection import train_test_split \n",
    "from sklearn.tree import DecisionTreeClassifier \n",
    "from sklearn.model_selection import RandomizedSearchCV"
   ]
  },
  {
   "cell_type": "markdown",
   "metadata": {},
   "source": [
    "### Step 1 – Explain any overfitting or underfitting in the previous model"
   ]
  },
  {
   "cell_type": "markdown",
   "metadata": {},
   "source": [
    "### Step 2 – Load the data and extract the features"
   ]
  },
  {
   "cell_type": "code",
   "execution_count": null,
   "metadata": {},
   "outputs": [],
   "source": [
    "#TODO: load the data and extract the features: 'VendorID', RatecodeID', 'PULocationID', 'DOLocationID', 'passenger_count', 'trip_distance', 'fare_amount', 'extra', 'mta_tax', 'tolls_amount', 'improvement_surcharge', 'total_amount', 'trip_type', 'congestion_surcharge', 'tip'\n"
   ]
  },
  {
   "cell_type": "markdown",
   "metadata": {},
   "source": [
    "### Step 3 – Split the data\n",
    "The test set should comprise 30% of the dataset. Ensure the data is randomized and that stratified samples are obtained."
   ]
  },
  {
   "cell_type": "code",
   "execution_count": null,
   "metadata": {},
   "outputs": [],
   "source": [
    "#TODO: Split the dataset into a training set and a test set\n",
    "X_train, X_test, y_train, y_test = train_test_split() #TODO: fill in the required options"
   ]
  },
  {
   "cell_type": "markdown",
   "metadata": {},
   "source": [
    "### Step 4 – Instantiate the Decision Tree Classifer"
   ]
  },
  {
   "cell_type": "code",
   "execution_count": null,
   "metadata": {},
   "outputs": [],
   "source": [
    "dt_estimator = DecisionTreeClassifier()"
   ]
  },
  {
   "cell_type": "markdown",
   "metadata": {},
   "source": [
    "### Step 5 – Create a dictionary that contains the decision tree parameters"
   ]
  },
  {
   "cell_type": "code",
   "execution_count": null,
   "metadata": {},
   "outputs": [],
   "source": [
    "params = {\n",
    "    'criterion': ['gini', 'entropy'], #a list of options for criterion.\n",
    "    'max_depth': , #TODO: provide a list of three numbers between 5 and 15 inclusive.\n",
    "    'min_samples_split':[] #TODO: provide a list of ten numbers between 100 and 500.\n",
    "}"
   ]
  },
  {
   "cell_type": "markdown",
   "metadata": {},
   "source": [
    "### Step 6 – Perform the Random search\n",
    "Provide the dictionary from step 5 above and use the decison tree from step 4 as the estimator."
   ]
  },
  {
   "cell_type": "code",
   "execution_count": null,
   "metadata": {},
   "outputs": [],
   "source": [
    "rand_search = RandomizedSearchCV(estimator=dt_estimator, \n",
    "                                 param_distributions=params, \n",
    "                                 random_state=7, \n",
    "                                 scoring='accuracy', \n",
    "                                 verbose=3, #display messages while training\n",
    "                                 n_iter= ,#TODO: set n_iter to a value between 50 and 100\n",
    "                                 cv=) #TODO: set the number of folds to 10 for the cross validation\n",
    "\n",
    "\n",
    "estimator = rand_search.fit(X_train, y_train)\n",
    "\n",
    "\n",
    "print('Best parameters:', estimator.best_params_)\n",
    "print('Best score:', estimator.best_score_) #note: if the score is low, increase n_iter or adjust the values in step 5."
   ]
  },
  {
   "cell_type": "markdown",
   "metadata": {},
   "source": [
    "### Step 7 – Train the decision tree"
   ]
  },
  {
   "cell_type": "code",
   "execution_count": null,
   "metadata": {},
   "outputs": [],
   "source": [
    "#Instantiate the Decision Tree Classifer object \n",
    "dt_classifier = DecisionTreeClassifier(criterion= , #TODO: use the value from the random search results.\n",
    "                                       max_depth= ,#TODO: use the value from the random search results.\n",
    "                                       min_samples_split= #TODO: use the value from the random search results.\n",
    "                                      )\n",
    "\n",
    "#Train Decision Tree Classifer using the `fit` method\n",
    "dt_classifier.fit(X_train, y_train)\n",
    "\n",
    "#Make predictions with `X_test` and store the result in a variable called `y_pred\n",
    "y_pred = dt_classifier.predict(X_test)"
   ]
  },
  {
   "cell_type": "markdown",
   "metadata": {},
   "source": [
    "### Step 8 – Evaluate the accuracy"
   ]
  },
  {
   "cell_type": "code",
   "execution_count": null,
   "metadata": {},
   "outputs": [],
   "source": [
    "#TODO: calculate and display the accuracy score using `y_test` and `y_pred`\n"
   ]
  },
  {
   "cell_type": "markdown",
   "metadata": {},
   "source": [
    "### Step 9 – Visualize the decision tree"
   ]
  },
  {
   "cell_type": "code",
   "execution_count": null,
   "metadata": {},
   "outputs": [],
   "source": [
    "#TODO: Display the decision tree\n"
   ]
  },
  {
   "cell_type": "markdown",
   "metadata": {},
   "source": [
    "### Step 10 – Summarize the results using one paragraph (2-5 sentences)"
   ]
  },
  {
   "cell_type": "code",
   "execution_count": null,
   "metadata": {},
   "outputs": [],
   "source": []
  }
 ],
 "metadata": {
  "kernelspec": {
   "display_name": "Python 3",
   "language": "python",
   "name": "python3"
  },
  "language_info": {
   "codemirror_mode": {
    "name": "ipython",
    "version": 3
   },
   "file_extension": ".py",
   "mimetype": "text/x-python",
   "name": "python",
   "nbconvert_exporter": "python",
   "pygments_lexer": "ipython3",
   "version": "3.7.4"
  }
 },
 "nbformat": 4,
 "nbformat_minor": 2
}
